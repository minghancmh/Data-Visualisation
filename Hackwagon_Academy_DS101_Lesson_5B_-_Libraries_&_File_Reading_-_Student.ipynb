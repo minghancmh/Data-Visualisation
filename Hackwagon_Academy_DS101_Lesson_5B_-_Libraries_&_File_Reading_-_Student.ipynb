{
 "cells": [
  {
   "cell_type": "markdown",
   "metadata": {},
   "source": [
    "<center><img src=\"https://i2.wp.com/hackwagon.com/wp-content/uploads/2017/02/Logo-Web-Export.png?ssl=1\" width=200/></center>\n",
    "\n",
    "<h1> Hackwagon Academy DS101 Lesson 5B </h1>\n",
    "<h2> Libraries and File Reading</h2> \n",
    "<h3> Lesson Outline </h3>\n",
    "\n",
    "- 1. [Libraries](#1)\n",
    "    - [Math Library](#1.1)\n",
    "    - [Statistics Library](#1.2)\n",
    "- 2. [File Opening](#2)\n",
    "    - [CSV Library](#2.1)\n",
    "- 3. [Plotting with matplotlib](#3)\n",
    "    - [Line Chart](#3.1)\n",
    "    - [Bar Chart](#3.2)\n",
    "    - [Scatter Plot](#3.3)\n",
    "    - [Designing Your Plots](#3.4)\n",
    "    - [Subplots & Axes](#3.5)"
   ]
  },
  {
   "cell_type": "markdown",
   "metadata": {},
   "source": [
    "<a id='1'><h1><img src=\"https://images.vexels.com/media/users/3/153978/isolated/preview/483ef8b10a46e28d02293a31570c8c56-warning-sign-colored-stroke-icon-by-vexels.png\" width=25 align=\"left\"><font color=\"salmon\">&nbsp;1.</font><font color=\"salmon\"> Libraries </font> </h2></a>"
   ]
  },
  {
   "cell_type": "markdown",
   "metadata": {},
   "source": [
    "\n",
    "Libraries are what makes Python one of the most popular languages for Data Science. Libraries are just a collection of many functions that are written by others. In order to use libraries, we need to understand how to read documentation on libraries. \n",
    "\n",
    "Below are some of the most popular libraries in Data Science.\n",
    "\n",
    "<img src=\"https://discoversdkcdn.azureedge.net/postscontent/python/python-data-science2.png\" width=400> \n",
    "\n",
    "1. [Numpy](https://www.numpy.org) - Numerical Computation\n",
    "2. [Matplotlib](https://matplotlib.org) - Data Visualisation\n",
    "3. [Pandas](http://pandas.pydata.org/pandas-docs/stable/) - Data Cleaning / Wrangling \n",
    "4. [sklearn](http://scikit-learn.github.io/stable) - Machine Learning\n",
    "\n",
    "and many more!\n",
    "\n",
    "<img src=\"https://i.imgur.com/YKSJ4wq.png\" width=\"600\">\n"
   ]
  },
  {
   "cell_type": "markdown",
   "metadata": {
    "ExecuteTime": {
     "end_time": "2019-07-03T16:05:11.470839Z",
     "start_time": "2019-07-03T16:05:11.467815Z"
    }
   },
   "source": [
    "<hr>"
   ]
  },
  {
   "cell_type": "markdown",
   "metadata": {},
   "source": [
    "<a id=\"1.1\"> <h2><code>math</code></h3></a>\n",
    "\n",
    "<!-- <img src=\"https://i.imgur.com/1x7RL15.png\" width=400 style=\"float: right\"> -->\n",
    "\n",
    "This library allows you to use some math functions unavailable by default in Python. <br>\n",
    "Read the documentation here: https://docs.python.org/3/library/math.html \n",
    "\n",
    "For example, we can use the `math` library's `exp()` function on a given number `5`:\n",
    "\n",
    "```python\n",
    "import math # this \"loads\" all the functions in the math library\n",
    "\n",
    "math.exp(5) # to use a function in math, type math.<function_name_here>\n",
    "```"
   ]
  },
  {
   "cell_type": "code",
   "execution_count": 20,
   "metadata": {
    "ExecuteTime": {
     "end_time": "2019-07-01T17:38:52.423823Z",
     "start_time": "2019-07-01T17:38:52.415574Z"
    }
   },
   "outputs": [
    {
     "name": "stdout",
     "output_type": "stream",
     "text": [
      "148.4131591025766\n"
     ]
    }
   ],
   "source": [
    "import math\n",
    "\n",
    "x = 5\n",
    "\n",
    "print(math.exp(x))\n",
    "# help(math.exp)"
   ]
  },
  {
   "cell_type": "markdown",
   "metadata": {},
   "source": [
    "## <img src=\"https://cdn.shopify.com/s/files/1/1200/7374/products/book_aec28e76-52ec-44ab-bc01-41df1279c89f_550x825.png?v=1473897430\" width=20 align=\"left\"> &nbsp; <font color=\"darkorange\"> Try it out I </font>\n",
    "<font color=\"grey\"><i>Using math functions + Pythagorean Theorem</i></font>\n",
    "\n",
    "> Use functions in the `math` library to calculate `c` \n",
    "<img src=\"http://www.justscience.in/wp-content/uploads/2017/05/Pythagorean-Theorem.jpeg\" width=200>\n",
    "\n",
    "**Hint:**\n",
    "\n",
    "- `math.pow`($x$, $y$) gives $x^{y}$\n",
    "- `math.sqrt`($x$) gives $\\sqrt{x}$\n",
    "\n",
    "\n",
    "#### Expected Output:\n",
    "```python\n",
    "22.3606...\n",
    "```"
   ]
  },
  {
   "cell_type": "code",
   "execution_count": 21,
   "metadata": {
    "ExecuteTime": {
     "end_time": "2019-07-01T17:39:12.544494Z",
     "start_time": "2019-07-01T17:39:12.540383Z"
    }
   },
   "outputs": [
    {
     "name": "stdout",
     "output_type": "stream",
     "text": [
      "22.360679774997898\n"
     ]
    }
   ],
   "source": [
    "import math\n",
    "\n",
    "a = 10\n",
    "b = 20\n",
    "\n",
    "# Write your code below:\n",
    "\n",
    "c = math.sqrt(math.pow(a,2)+math.pow(b,2))\n",
    "print(c)\n"
   ]
  },
  {
   "cell_type": "markdown",
   "metadata": {},
   "source": [
    "<hr>"
   ]
  },
  {
   "cell_type": "markdown",
   "metadata": {},
   "source": [
    "<a id=\"1.2\"> <h2><code>statistics</code></h2></a>\n",
    "\n",
    "This library gives you many statistical functions you can use in with lists of numbers!<br>\n",
    "Read the documentation here: https://docs.python.org/3/library/statistics.html"
   ]
  },
  {
   "cell_type": "markdown",
   "metadata": {},
   "source": [
    "## <img src=\"https://cdn.shopify.com/s/files/1/1200/7374/products/book_aec28e76-52ec-44ab-bc01-41df1279c89f_550x825.png?v=1473897430\" width=20 align=\"left\"> &nbsp; <font color=\"darkorange\"> Try it out II </font>\n",
    "<font color=\"grey\"><i>Using statistics functions</i></font>\n",
    "\n",
    "> Find the mean, median, mode of `[1, 2, 3, 3]`\n",
    "\n",
    "#### Expected Output:\n",
    "```python\n",
    "\n",
    "mean: 2.25\n",
    "median: 2.5\n",
    "mode: 3\n",
    "```"
   ]
  },
  {
   "cell_type": "code",
   "execution_count": 22,
   "metadata": {
    "ExecuteTime": {
     "end_time": "2019-07-01T17:40:01.688769Z",
     "start_time": "2019-07-01T17:40:01.682545Z"
    }
   },
   "outputs": [
    {
     "name": "stdout",
     "output_type": "stream",
     "text": [
      "mean: 2.25\n",
      "median: 2.5\n",
      "mode: 3\n"
     ]
    }
   ],
   "source": [
    "import statistics\n",
    "data = [1, 2, 3, 3]\n",
    "\n",
    "# Write your code below:\n",
    "print('mean:', statistics.mean(data))\n",
    "print('median:', statistics.median(data))\n",
    "print('mode:', statistics.mode(data))"
   ]
  },
  {
   "cell_type": "markdown",
   "metadata": {},
   "source": [
    "<hr>"
   ]
  },
  {
   "cell_type": "markdown",
   "metadata": {},
   "source": [
    "<a id='2'><h2><img src=\"https://images.vexels.com/media/users/3/153978/isolated/preview/483ef8b10a46e28d02293a31570c8c56-warning-sign-colored-stroke-icon-by-vexels.png\" width=25 align=\"left\"><font color=\"salmon\">&nbsp;2.</font><font color=\"salmon\"> File Opening (`csv`) </font> </h2></a>\n",
    "\n",
    "\n",
    "Many datasets are stored in CSV because it is more efficient to store them in these file type. Also be cause the values are separated by commas. CSV stands for <b>Comma Separated Values</b>.\n",
    "\n",
    "<img src=\"https://i.imgur.com/XmWDOy0.png\" width=\"600\">"
   ]
  },
  {
   "cell_type": "markdown",
   "metadata": {},
   "source": [
    "<a id=\"2.1\"><h2><code>csv</code> library</h2></a>\n",
    "\n",
    "The CSV library provides helpful functions for reading `csv` files easily.<br>The two main functions commonly used are:\n",
    "1. `.reader()`\n",
    "2. `.DictReader()`"
   ]
  },
  {
   "cell_type": "markdown",
   "metadata": {},
   "source": [
    "<div class=\"alert alert-success\">\n",
    "\n",
    "## Preferred!\n",
    "#### `.DictReader()` - List of Dictionaries\n",
    "Read the `videos.csv` file and put it into a list called `video_list_of_dictionaries`.\n",
    "\n",
    "</div>"
   ]
  },
  {
   "cell_type": "code",
   "execution_count": 23,
   "metadata": {
    "ExecuteTime": {
     "end_time": "2019-07-01T17:40:14.669967Z",
     "start_time": "2019-07-01T17:40:14.662527Z"
    },
    "scrolled": true
   },
   "outputs": [
    {
     "name": "stdout",
     "output_type": "stream",
     "text": [
      "[{'title': 'see you again', 'views': '123123'}, {'title': 'despacito', 'views': '500000'}, {'title': 'im yours', 'views': '8000'}]\n"
     ]
    }
   ],
   "source": [
    "# Write your code below:\n",
    "import csv\n",
    "\n",
    "with open('videos.csv') as file:\n",
    "    data = []\n",
    "    for row in csv.DictReader(file):\n",
    "#         print(dict(row))\n",
    "        data.append(dict(row))\n",
    "print(data)\n",
    "\n",
    "# video_list_of_dictionaries = list(csv.DictReader(open('videos.csv')))\n",
    "# print(video_list_of_dictionaries)"
   ]
  },
  {
   "cell_type": "markdown",
   "metadata": {
    "ExecuteTime": {
     "end_time": "2019-07-01T15:50:01.145225Z",
     "start_time": "2019-07-01T15:50:01.142209Z"
    }
   },
   "source": [
    "<div class=\"alert alert-warning\">\n",
    "\n",
    "## Still okay\n",
    "\n",
    "#### `.reader()` - List of Lists \n",
    "Read the `videos.csv` file and put it into a list called `video_list_of_lists`.\n",
    "\n",
    "</div>"
   ]
  },
  {
   "cell_type": "code",
   "execution_count": 24,
   "metadata": {
    "ExecuteTime": {
     "end_time": "2019-07-01T17:40:17.245637Z",
     "start_time": "2019-07-01T17:40:17.241121Z"
    }
   },
   "outputs": [
    {
     "name": "stdout",
     "output_type": "stream",
     "text": [
      "[['see you again', '123123'], ['despacito', '500000'], ['im yours', '8000']]\n"
     ]
    }
   ],
   "source": [
    "# Write your code below:\n",
    "import csv # load all functions in csv\n",
    "\n",
    "with open('videos.csv') as file:\n",
    "\n",
    "    data = []\n",
    "    \n",
    "    for row in csv.reader(file):\n",
    "        data.append(row)\n",
    "        \n",
    "    del data[0] # delete the columns\n",
    "print(data)\n",
    "# video_list_of_lists = list(csv.reader(open('videos.csv')))\n",
    "# print(video_list_of_lists)"
   ]
  },
  {
   "cell_type": "markdown",
   "metadata": {},
   "source": [
    "<div class=\"alert alert-danger\">\n",
    "    \n",
    "## Not recommended (but possible)\n",
    "File opening without library\n",
    "    \n",
    "</div>"
   ]
  },
  {
   "cell_type": "code",
   "execution_count": 25,
   "metadata": {
    "ExecuteTime": {
     "end_time": "2019-07-01T17:40:28.614854Z",
     "start_time": "2019-07-01T17:40:28.609752Z"
    }
   },
   "outputs": [
    {
     "data": {
      "text/plain": [
       "[['see you again', '123123'], ['despacito', '500000'], ['im yours', '8000']]"
      ]
     },
     "execution_count": 25,
     "metadata": {},
     "output_type": "execute_result"
    }
   ],
   "source": [
    "file = open('videos.csv')\n",
    "\n",
    "data = file.read()\n",
    "\n",
    "cleaned_data = []\n",
    "\n",
    "for row in data.split('\\n'):\n",
    "    cleaned_data.append(row.split(','))\n",
    "\n",
    "del cleaned_data[0]\n",
    "\n",
    "file.close()\n",
    "\n",
    "cleaned_data"
   ]
  },
  {
   "cell_type": "code",
   "execution_count": 26,
   "metadata": {
    "ExecuteTime": {
     "end_time": "2019-07-01T17:40:21.558903Z",
     "start_time": "2019-07-01T17:40:21.553628Z"
    }
   },
   "outputs": [
    {
     "data": {
      "text/plain": [
       "[['see you again', '123123'], ['despacito', '500000'], ['im yours', '8000']]"
      ]
     },
     "execution_count": 26,
     "metadata": {},
     "output_type": "execute_result"
    }
   ],
   "source": [
    "cleaned_data = []\n",
    "\n",
    "with open('videos.csv') as file:\n",
    "\n",
    "    data = file.read()\n",
    "\n",
    "    for row in data.split('\\n'):\n",
    "        cleaned_data.append(row.split(','))\n",
    "\n",
    "    del cleaned_data[0]\n",
    "    \n",
    "cleaned_data"
   ]
  },
  {
   "cell_type": "markdown",
   "metadata": {},
   "source": [
    "<hr>"
   ]
  },
  {
   "cell_type": "markdown",
   "metadata": {},
   "source": [
    "<a id='3'><h2><img src=\"https://images.vexels.com/media/users/3/153978/isolated/preview/483ef8b10a46e28d02293a31570c8c56-warning-sign-colored-stroke-icon-by-vexels.png\" width=25 align=\"left\"><font color=\"salmon\">&nbsp;3.</font><font color=\"salmon\"> Plotting with (`matplotlib`) </font> </h2></a>"
   ]
  },
  {
   "cell_type": "markdown",
   "metadata": {},
   "source": [
    "### Video: Using visualizations to tell a story."
   ]
  },
  {
   "cell_type": "code",
   "execution_count": 27,
   "metadata": {},
   "outputs": [
    {
     "data": {
      "text/html": [
       "\n",
       "  <iframe width=\"800\" height=\"500\" src=\"https://www.youtube.com/embed/jbkSRLYSojo\" \n",
       "          frameborder=\"0\" allow=\"accelerometer; autoplay; encrypted-media; \n",
       "          gyroscope; picture-in-picture\" allowfullscreen>\n",
       "  </iframe>\n",
       " "
      ],
      "text/plain": [
       "<IPython.core.display.HTML object>"
      ]
     },
     "execution_count": 27,
     "metadata": {},
     "output_type": "execute_result"
    }
   ],
   "source": [
    "from IPython.display import HTML\n",
    "\n",
    "HTML('''\n",
    "  <iframe width=\"800\" height=\"500\" src=\"https://www.youtube.com/embed/jbkSRLYSojo\" \n",
    "          frameborder=\"0\" allow=\"accelerometer; autoplay; encrypted-media; \n",
    "          gyroscope; picture-in-picture\" allowfullscreen>\n",
    "  </iframe>\n",
    " ''')"
   ]
  },
  {
   "cell_type": "markdown",
   "metadata": {},
   "source": [
    "### <font color='green'>`Matplotlib` is one of the most commonly used Python visualization libraries. </font>\n",
    "\n",
    "Examples of what you can create with this library: https://matplotlib.org/gallery/index.html\n",
    "\n",
    "Creating visualisations is <b>very simple</b>, you just need 2 <b>lists</b> of data of the <b>same length</b>."
   ]
  },
  {
   "cell_type": "code",
   "execution_count": 28,
   "metadata": {},
   "outputs": [
    {
     "ename": "ModuleNotFoundError",
     "evalue": "No module named 'matplotlib'",
     "output_type": "error",
     "traceback": [
      "\u001b[0;31m---------------------------------------------------------------------------\u001b[0m",
      "\u001b[0;31mModuleNotFoundError\u001b[0m                       Traceback (most recent call last)",
      "Input \u001b[0;32mIn [28]\u001b[0m, in \u001b[0;36m<module>\u001b[0;34m\u001b[0m\n\u001b[0;32m----> 1\u001b[0m \u001b[38;5;28;01mimport\u001b[39;00m \u001b[38;5;21;01mmatplotlib\u001b[39;00m\u001b[38;5;21;01m.\u001b[39;00m\u001b[38;5;21;01mpyplot\u001b[39;00m \u001b[38;5;28;01mas\u001b[39;00m \u001b[38;5;21;01mplt\u001b[39;00m\n",
      "\u001b[0;31mModuleNotFoundError\u001b[0m: No module named 'matplotlib'"
     ]
    }
   ],
   "source": [
    "import matplotlib.pyplot as plt\n",
    "# plt is an \"alias\"\n"
   ]
  },
  {
   "cell_type": "markdown",
   "metadata": {},
   "source": [
    "<a id=\"3.1\"> <h3>3.1 Line Chart</h3></a>\n",
    "\n",
    "Line charts are best used for <b>time-series</b> data.\n",
    "\n",
    "<img src=\"https://plot.ly/~MelissaZhu/4.png\" width=\"400\">"
   ]
  },
  {
   "cell_type": "code",
   "execution_count": null,
   "metadata": {},
   "outputs": [
    {
     "data": {
      "text/plain": [
       "[<matplotlib.lines.Line2D at 0x12cdb91b8b0>]"
      ]
     },
     "execution_count": 12,
     "metadata": {},
     "output_type": "execute_result"
    },
    {
     "data": {
      "image/png": "[encoded data removed]",
      "text/plain": [
       "<Figure size 432x288 with 1 Axes>"
      ]
     },
     "metadata": {
      "needs_background": "light"
     },
     "output_type": "display_data"
    }
   ],
   "source": [
    "x = [1, 2, 3, 4, 5]\n",
    "y = [1, 4, 9, 16, 25]\n",
    "\n",
    "# Write your code below:\n",
    "plt.plot(x,y)\n"
   ]
  },
  {
   "cell_type": "markdown",
   "metadata": {},
   "source": [
    "<a id=\"3.2\"> <h3>3.2 Bar Chart</h3></a>\n",
    "\n",
    "Bar charts are based used to find <b>differences between categories</b> or for <b>time-series</b> data.\n",
    "\n",
    "<img src=\"https://www.excel-easy.com/examples/images/bar-chart/bar-chart.png\" width=\"400\">\n",
    "<img src=\"http://thedailyviz.com/wp-content/uploads/2012/08/guns-620x415.png\" width=\"400\">"
   ]
  },
  {
   "cell_type": "code",
   "execution_count": null,
   "metadata": {},
   "outputs": [
    {
     "data": {
      "text/plain": [
       "<BarContainer object of 5 artists>"
      ]
     },
     "execution_count": 15,
     "metadata": {},
     "output_type": "execute_result"
    },
    {
     "data": {
      "image/png": "[encoded data removed]",
      "text/plain": [
       "<Figure size 432x288 with 1 Axes>"
      ]
     },
     "metadata": {
      "needs_background": "light"
     },
     "output_type": "display_data"
    }
   ],
   "source": [
    "x = ['A', 'B', 'C', 'D', 'E']\n",
    "y = [1, 4, 9, 16, 25]\n",
    "\n",
    "# Write your code below:\n",
    "# plt.bar(x,y)\n",
    "plt.barh(x,y)"
   ]
  },
  {
   "cell_type": "markdown",
   "metadata": {},
   "source": [
    "<a id=\"3.3\"> <h3>3.3 Scatter Plot</h3></a>\n",
    "Scatter plots are best used for <b>relationships</b> between 2 or more variables.\n",
    "\n",
    "<img src=\"https://plot.ly/~cufflinks/52/life-expectancy-vs-gdp-per-capita.png\" width=\"400\">"
   ]
  },
  {
   "cell_type": "code",
   "execution_count": null,
   "metadata": {},
   "outputs": [
    {
     "data": {
      "text/plain": [
       "<matplotlib.collections.PathCollection at 0x12cdbada8e0>"
      ]
     },
     "execution_count": 16,
     "metadata": {},
     "output_type": "execute_result"
    },
    {
     "data": {
      "image/png": "[encoded data removed]",
      "text/plain": [
       "<Figure size 432x288 with 1 Axes>"
      ]
     },
     "metadata": {
      "needs_background": "light"
     },
     "output_type": "display_data"
    }
   ],
   "source": [
    "x = [1, 2, 3, 4, 5]\n",
    "y = [1, 4, 9, 16, 25]\n",
    "\n",
    "# Write your code below:\n",
    "plt.scatter(x,y)\n"
   ]
  },
  {
   "cell_type": "markdown",
   "metadata": {},
   "source": [
    "<a id=\"3.4\"> <h3>3.4 Designing Your Plots</h3></a>\n",
    "\n",
    "Don't aim to make simple visualisations, aim to make <b>informative and effective visualisations</b>. Here are some of the things to take note to make sure your visualisations is informative effective:\n",
    "\n",
    "1. What is the story you want to tell?\n",
    "2. Is the visualisation simple to understand?\n",
    "3. Is the visualisation/chart appropriate based the given dataset? "
   ]
  },
  {
   "cell_type": "markdown",
   "metadata": {},
   "source": [
    "<a id=\"3.4.1\"> <h4>3.4.1 Titles, Labels, Color</h4></a>\n",
    " \n",
    "- Title - `plt.title()`\n",
    "- X Axis Label - `plt.xlabel()`\n",
    "- Y Axis Label - `plt.ylabel()`"
   ]
  },
  {
   "cell_type": "code",
   "execution_count": null,
   "metadata": {},
   "outputs": [
    {
     "data": {
      "text/plain": [
       "Text(0, 0.5, 'Y values')"
      ]
     },
     "execution_count": 19,
     "metadata": {},
     "output_type": "execute_result"
    },
    {
     "data": {
      "image/png": "[encoded data removed]",
      "text/plain": [
       "<Figure size 432x288 with 1 Axes>"
      ]
     },
     "metadata": {
      "needs_background": "light"
     },
     "output_type": "display_data"
    }
   ],
   "source": [
    "plt.scatter(x, y)\n",
    "\n",
    "# Write your code below:\n",
    "plt.title('Y=X-squared')\n",
    "plt.xlabel('X values')\n",
    "plt.ylabel('Y values')\n"
   ]
  },
  {
   "cell_type": "markdown",
   "metadata": {},
   "source": [
    "<a id=\"3.4.2\"> <h4>3.4.2 Color, Markers, Alphas, Size (PARAMETERS)</h4></a>\n",
    " \n",
    "When designing scatterplots, sometimes you want certain points to be more distinct than the others.\n",
    "\n",
    "- Color - `c=`\n",
    "- Markers - Design of each point: `marker=`\n",
    "- Alphas - Darkness of each point: `alpha=`\n",
    "- Size - Size of each point: `s=`"
   ]
  },
  {
   "cell_type": "code",
   "execution_count": null,
   "metadata": {},
   "outputs": [
    {
     "data": {
      "text/plain": [
       "<matplotlib.collections.PathCollection at 0x12cdcffaa90>"
      ]
     },
     "execution_count": 32,
     "metadata": {},
     "output_type": "execute_result"
    },
    {
     "data": {
      "image/png": "[encoded data removed]",
      "text/plain": [
       "<Figure size 432x288 with 1 Axes>"
      ]
     },
     "metadata": {
      "needs_background": "light"
     },
     "output_type": "display_data"
    }
   ],
   "source": [
    "# Write your code below:\n",
    "plt.scatter(x,y,c='red', marker = '*', s=100, alpha = 0.3)\n"
   ]
  },
  {
   "cell_type": "markdown",
   "metadata": {},
   "source": [
    "<a id=\"3.4.3\"> <h4>3.4.3 Saving Figures</h4></a>\n",
    "\n",
    "After designing your graphs, you might want to use it for presentation purposes. You can save your chart by doing `plt.savefig()`."
   ]
  },
  {
   "cell_type": "code",
   "execution_count": null,
   "metadata": {},
   "outputs": [
    {
     "data": {
      "image/png": "[encoded data removed]",
      "text/plain": [
       "<Figure size 432x288 with 1 Axes>"
      ]
     },
     "metadata": {
      "needs_background": "light"
     },
     "output_type": "display_data"
    }
   ],
   "source": [
    "# Write your code below:\n",
    "plt.scatter(x,y,c='red', marker = '*', s=100, alpha = 0.3)\n",
    "\n",
    "plt.savefig('redstars.png')\n"
   ]
  },
  {
   "cell_type": "markdown",
   "metadata": {},
   "source": [
    "<a id=\"3.5\"> <h3>3.5 Subplots & Axes</h3></a>\n",
    "\n",
    "Sometimes it is better to have different plots side-by-side, for example you want to compare times-series and scatterplot graphs of the same dataset. This is where we will use <b>subplots / axes</b>. Here we will understand how to use these subplots.\n",
    "\n",
    "<img src=\"https://i.imgur.com/JrukTTS.png\" width=\"300\">"
   ]
  },
  {
   "cell_type": "markdown",
   "metadata": {},
   "source": [
    "### Let's say we want to plot two charts side-by-side.\n"
   ]
  },
  {
   "cell_type": "code",
   "execution_count": null,
   "metadata": {},
   "outputs": [
    {
     "data": {
      "text/plain": [
       "Text(0.5, 1.0, 'RIGHT CHART')"
      ]
     },
     "execution_count": 36,
     "metadata": {},
     "output_type": "execute_result"
    },
    {
     "data": {
      "image/png": "[encoded data removed]",
      "text/plain": [
       "<Figure size 864x432 with 2 Axes>"
      ]
     },
     "metadata": {
      "needs_background": "light"
     },
     "output_type": "display_data"
    }
   ],
   "source": [
    "x = [1, 2, 3, 4, 5]\n",
    "y = [1, 4, 9, 16, 25]\n",
    "\n",
    "# fig = plt.figure()\n",
    "fig = plt.figure(figsize=(12, 6))\n",
    "\n",
    "ax1 = fig.add_subplot(1, 2, 1)\n",
    "ax1.scatter(x, y)\n",
    "plt.title(\"LEFT CHART\")\n",
    "\n",
    "ax2 = fig.add_subplot(1, 2, 2)\n",
    "ax2.bar(x, y, color='g')\n",
    "plt.title(\"RIGHT CHART\")"
   ]
  },
  {
   "cell_type": "markdown",
   "metadata": {},
   "source": [
    "### A more complex example:"
   ]
  },
  {
   "cell_type": "code",
   "execution_count": null,
   "metadata": {},
   "outputs": [
    {
     "data": {
      "text/plain": [
       "[<matplotlib.lines.Line2D at 0x12cdd233a00>]"
      ]
     },
     "execution_count": 37,
     "metadata": {},
     "output_type": "execute_result"
    },
    {
     "data": {
      "image/png": "[encoded data removed]",
      "text/plain": [
       "<Figure size 864x432 with 3 Axes>"
      ]
     },
     "metadata": {
      "needs_background": "light"
     },
     "output_type": "display_data"
    }
   ],
   "source": [
    "x = [1, 2, 3, 4, 5]\n",
    "y = [1, 4, 9, 16, 25]\n",
    "\n",
    "fig = plt.figure(figsize=(12, 6))\n",
    "# TOP LEFT\n",
    "ax = fig.add_subplot(2, 2, 1) # row, col, plot number /index\n",
    "ax.scatter(x, y) \n",
    "\n",
    "# TOP RIGHT\n",
    "ax2 = fig.add_subplot(2, 2, 2)\n",
    "ax2.scatter(x, y, c='red')\n",
    "\n",
    "# BOTTOM\n",
    "ax3 = fig.add_subplot(2, 1, 2)\n",
    "ax3.plot(x, y)\n",
    "\n"
   ]
  },
  {
   "cell_type": "markdown",
   "metadata": {},
   "source": [
    "<hr>"
   ]
  },
  {
   "cell_type": "markdown",
   "metadata": {},
   "source": [
    "<a><h1><img src=\"https://www.neurobalanceasia.com/wp-content/uploads/2016/09/ca_brainbooks.png\" width=70 align=\"left\"><br>&nbsp;<font color=\"orange\"> Post-class Exploration </font> </h2></a>"
   ]
  },
  {
   "cell_type": "markdown",
   "metadata": {},
   "source": [
    "### Regular Expressions\n",
    "_Pattern-based string manipulation_\n",
    "\n",
    "> _\"A sequence of symbols and characters expressing a string or pattern to be searched for within a longer piece of text.\"_ - [Wikipedia](https://en.wikipedia.org/wiki/Regular_expression)\n",
    "\n",
    "`Regular expressions` (regex) are extremely helpful in text cleaning and mining.\n",
    "\n",
    "They allow you to search for and extract certain portions of a body of text based on **patterns**.\n",
    "\n",
    "\n",
    "<img src=\"https://packagecontrol.io/readmes/img/ee0f3a47ca91d9f6ae5a0835c5dffb1912399b53.gif\">\n",
    "\n",
    "\n",
    "Learn more at https://regexone.com"
   ]
  },
  {
   "cell_type": "markdown",
   "metadata": {},
   "source": [
    "### Examples\n",
    "\n",
    "Using [Python's regex library](https://docs.python.org/3/library/re.html)"
   ]
  },
  {
   "cell_type": "code",
   "execution_count": null,
   "metadata": {
    "ExecuteTime": {
     "end_time": "2019-07-01T17:40:33.094992Z",
     "start_time": "2019-07-01T17:40:33.091594Z"
    }
   },
   "outputs": [
    {
     "name": "stdout",
     "output_type": "stream",
     "text": [
      "983489\n"
     ]
    }
   ],
   "source": [
    "import re\n",
    "\n",
    "data =\"$9834/89.\"  # Let's remove the special characters\n",
    "\n",
    "data = re.sub('[^A-Za-z0-9]+', '', data)\n",
    "\n",
    "print(data)"
   ]
  },
  {
   "cell_type": "code",
   "execution_count": 30,
   "metadata": {
    "ExecuteTime": {
     "end_time": "2019-07-01T17:40:33.788554Z",
     "start_time": "2019-07-01T17:40:33.784820Z"
    }
   },
   "outputs": [
    {
     "name": "stdout",
     "output_type": "stream",
     "text": [
      "hello@yahoo.com\n"
     ]
    }
   ],
   "source": [
    "# Regex to check a string for emails\n",
    "import re\n",
    "long_string = \"Hi my name is WY and my email is hello@yahoo.com. Hope you have a wonderful time!\"\n",
    "\n",
    "pattern = re.compile(r\"\\b([a-zA-Z0-9.-]+)@([a-zA-Z0-9]+).([a-zA-Z]{2,5})\\b\")\n",
    "\n",
    "email = re.search(pattern, long_string).group(0)\n",
    "\n",
    "print(email)"
   ]
  },
  {
   "cell_type": "markdown",
   "metadata": {},
   "source": [
    "<center><h1>FIN</h1><center>"
   ]
  }
 ],
 "metadata": {
  "interpreter": {
   "hash": "aee8b7b246df8f9039afb4144a1f6fd8d2ca17a180786b69acc140d282b71a49"
  },
  "kernelspec": {
   "display_name": "Python 3.10.1 64-bit",
   "name": "python3"
  },
  "language_info": {
   "codemirror_mode": {
    "name": "ipython",
    "version": 3
   },
   "file_extension": ".py",
   "mimetype": "text/x-python",
   "name": "python",
   "nbconvert_exporter": "python",
   "pygments_lexer": "ipython3",
   "version": "3.10.1"
  }
 },
 "nbformat": 4,
 "nbformat_minor": 2
}
